{
 "cells": [
  {
   "cell_type": "code",
   "execution_count": 88,
   "metadata": {},
   "outputs": [],
   "source": [
    "import pandas as pd\n",
    "import numpy as np\n",
    "import matplotlib.pyplot as plt\n",
    "\n",
    "from sklearn.preprocessing import MinMaxScaler\n",
    "from sklearn import mixture\n",
    "from sklearn import metrics\n",
    "\n",
    "from sklearn.model_selection import train_test_split, GridSearchCV\n",
    "from sklearn import svm, linear_model, datasets\n",
    "from sklearn.tree import DecisionTreeClassifier\n",
    "from sklearn.neighbors import KNeighborsClassifier"
   ]
  },
  {
   "cell_type": "code",
   "execution_count": 2,
   "metadata": {},
   "outputs": [],
   "source": [
    "#read in 2015-2022 datasets, add year column, add rank to years that don't have rank, clean column names \n",
    "df_15 = pd.read_csv('https://raw.githubusercontent.com/cklostermann/STAT-451-project/main/2015.csv')\n",
    "df_15[\"Year\"] = 2015\n",
    "df_15.rename(columns = {'Family':'Social support'}, inplace = True)\n",
    "\n",
    "df_16 = pd.read_csv('https://raw.githubusercontent.com/cklostermann/STAT-451-project/main/2016.csv')\n",
    "df_16[\"Year\"] = 2016\n",
    "df_16.rename(columns = {'Family':'Social support'}, inplace = True)\n",
    "\n",
    "df_17 = pd.read_csv('https://raw.githubusercontent.com/cklostermann/STAT-451-project/main/2017.csv')\n",
    "df_17[\"Year\"] = 2017\n",
    "df_17. rename(columns = {'Happiness.Rank':'Happiness Rank', 'Happiness.Score':'Happiness Score',\n",
    "                         'Economy..GDP.per.Capita.':'Economy (GDP per Capita)',\n",
    "                         'Health..Life.Expectancy.':'Health (Life Expectancy)',\n",
    "                         'Trust..Government.Corruption.':'Trust (Government Corruption)',\n",
    "                        'Dystopia.Residual':'Dystopia Residual',\n",
    "                        'Family':'Social support'}, inplace = True)\n",
    "\n",
    "df_18 = pd.read_csv('https://raw.githubusercontent.com/cklostermann/STAT-451-project/main/2018.csv')\n",
    "df_18[\"Year\"] = 2018\n",
    "df_18. rename(columns = {'Overall rank':'Happiness Rank', 'Score':'Happiness Score',\n",
    "                         'Country or region':'Country',\n",
    "                         'GDP per capita':'Economy (GDP per Capita)',\n",
    "                         'Healthy life expectancy':'Health (Life Expectancy)',\n",
    "                         'Freedom to make life choices':'Freedom',\n",
    "                        'Perceptions of corruption':'Trust (Government Corruption)'}, inplace = True)\n",
    "\n",
    "df_19 = pd.read_csv('https://raw.githubusercontent.com/cklostermann/STAT-451-project/main/2019.csv')\n",
    "df_19[\"Year\"] = 2019\n",
    "df_19. rename(columns = {'Overall rank':'Happiness Rank', 'Score':'Happiness Score',\n",
    "                         'Country or region':'Country',\n",
    "                         'GDP per capita':'Economy (GDP per Capita)',\n",
    "                         'Healthy life expectancy':'Health (Life Expectancy)',\n",
    "                         'Freedom to make life choices':'Freedom',\n",
    "                        'Perceptions of corruption':'Trust (Government Corruption)'}, inplace = True)\n",
    "\n",
    "df_20 = pd.read_csv('https://raw.githubusercontent.com/cklostermann/STAT-451-project/main/2020.csv')\n",
    "df_20[\"Year\"] = 2020\n",
    "df_20.rename(columns = {'Ladder score':'Happiness Score',\n",
    "                         'Country name':'Country',\n",
    "                         'Logged GDP per capita':'Economy (GDP per Capita)',\n",
    "                         'Healthy life expectancy':'Health (Life Expectancy)',\n",
    "                         'Freedom to make life choices':'Freedom',\n",
    "                        'Perceptions of corruption':'Trust (Government Corruption)',\n",
    "                       'Dystopia + residual':'Dystopia Residual'}, inplace = True)\n",
    "df_20['Happiness Rank'] = df_20['Happiness Score'].rank(ascending=False)\n",
    "\n",
    "df_21 = pd.read_csv('https://raw.githubusercontent.com/cklostermann/STAT-451-project/main/2021.csv')\n",
    "df_21[\"Year\"] = 2021\n",
    "df_21.rename(columns = {'Ladder score':'Happiness Score',\n",
    "                         'Country name':'Country',\n",
    "                         'Logged GDP per capita':'Economy (GDP per Capita)',\n",
    "                         'Healthy life expectancy':'Health (Life Expectancy)',\n",
    "                         'Freedom to make life choices':'Freedom',\n",
    "                        'Perceptions of corruption':'Trust (Government Corruption)',\n",
    "                       'Dystopia + residual':'Dystopia Residual'}, inplace = True)\n",
    "df_21['Happiness Rank'] = df_21['Happiness Score'].rank(ascending=False)\n",
    "\n",
    "\n",
    "df_22 = pd.read_csv('https://raw.githubusercontent.com/cklostermann/STAT-451-project/main/2022.csv')\n",
    "df_22[\"Year\"] = 2022"
   ]
  },
  {
   "cell_type": "code",
   "execution_count": 94,
   "metadata": {},
   "outputs": [],
   "source": [
    "#merge datasets\n",
    "df = pd.concat([df_15, df_16, df_17, df_18, df_19])\n",
    "\n",
    "list(df.columns) #will have to clean up column names so that they can merge properly\n",
    "df = df.iloc[:, 0:13]\n",
    "df = df.drop(['Region','Standard Error'], 1)"
   ]
  },
  {
   "cell_type": "code",
   "execution_count": 102,
   "metadata": {},
   "outputs": [],
   "source": [
    "#rescale happiness scores\n",
    "X = df[\"Happiness Score\"].values.reshape(-1, 1)\n",
    "scaler = MinMaxScaler()\n",
    "X_scaled = scaler.fit_transform(X) # do scaling\n",
    "df[\"Happiness Score\"] = X_scaled"
   ]
  },
  {
   "cell_type": "code",
   "execution_count": 103,
   "metadata": {},
   "outputs": [],
   "source": [
    "#add column to categorize happiness scores as low, medium, and high\n",
    "df[\"Score Category\"] = pd.cut(df[\"Happiness Score\"], bins=[0, .5, 1.0], \n",
    "                              right=False, labels=['low', 'high'])\n",
    "\n",
    "#remove rows with NA values\n",
    "df = df.dropna()"
   ]
  },
  {
   "cell_type": "code",
   "execution_count": 103,
   "metadata": {},
   "outputs": [],
   "source": [
    "cols=["Economy (GDP per Capita)", "Social support", "Health (Life Expectancy)", "Freedom", "Trust (Government Corruption)", "Generosity", "Year"]",
    "#cols_2=["Social support", "Health (Life Expectancy)"]",
    "X = np.array(df[cols])",
    "y = np.array(df[['Happiness Score']]).ravel()",
    "lm_model = linear_model.LinearRegression()",
    "lm_model.fit(X, y)",
    "y_hat = lm_model.predict(X)",
    "b = lm_model.intercept_",
    "w = lm_model.coef_",
    "print(f"The equation of the multiple variable linear regression model is: \nHappiness Score = {lm_model.intercept_:.3} + ({lm_model.coef_[0]:.3})*GDP per Capita + ({lm_model.coef_[1]:.3})*Social support + ({lm_model.coef_[2]:.3})*Health (Life Expectancy)+ ({lm_model.coef_[3]:.3})*Freedom + ({lm_model.coef_[4]:.3})*Trust (Government Corruption) + ({lm_model.coef_[5]:.3})*Generosity + ({lm_model.coef_[6]:.3})*Year ")",
    "print(f"The linear regression model score is {lm_model.score(X, y):.3}.")",
    "plt.figure()",
    "plt.scatter(x=list(range(0, 470)),y= y, color='blue')",        
    "plt.scatter(x=list(range(0, 470)), y=y_hat, color='black')",
    "plt.title("Predicted and Original Happiness Scores")",
    "plt.show()"
   ]
  },
  {
   "cell_type": "code",
   "execution_count": 104,
   "metadata": {},
   "outputs": [],
   "source": [
    "#split dataset into 75% training and 25% testing data\n",
    "X = np.array(df[['Social support', 'Health (Life Expectancy)']])\n",
    "y = np.array(df[['Score Category']]).ravel()\n",
    "X_train, X_test, y_train, y_test = train_test_split(X, y, test_size=.25, random_state=0, stratify=y)"
   ]
  },
  {
   "cell_type": "code",
   "execution_count": 106,
   "metadata": {},
   "outputs": [
    {
     "data": {
      "text/plain": [
       "<matplotlib.legend.Legend at 0x7faa71682070>"
      ]
     },
     "execution_count": 106,
     "metadata": {},
     "output_type": "execute_result"
    },
    {
     "data": {
      "image/png": "iVBORw0KGgoAAAANSUhEUgAAAaAAAAEWCAYAAAAgpUMxAAAAOXRFWHRTb2Z0d2FyZQBNYXRwbG90bGliIHZlcnNpb24zLjUuMSwgaHR0cHM6Ly9tYXRwbG90bGliLm9yZy/YYfK9AAAACXBIWXMAAAsTAAALEwEAmpwYAABLAUlEQVR4nO2deZwcVbX4v2dmMgmBQHDgqRBCIsYnJGGNwACBETAv8hDUuCBI2EMQVFxQ8lSIxJeg8HxhUxJkSXBBJIr5YXhiQgaCM2ACYZFF2UNENIwEwpJlZs7vj1udqanppbq7qqu6+3w/n/50dy23zr1Vdc895957rqgqhmEYhlFpGpIWwDAMw6hPTAEZhmEYiWAKyDAMw0gEU0CGYRhGIpgCMgzDMBLBFJBhGIaRCKlTQCJyrYh8J+Sx7SJyZtwy1QIioiLy/hjSnSkiP82z/1QRua+I9F4QkaMjkKtNRNaWm06J135cRNqSuLZRHiLyCxH5eITpjRSRN0WkMcpjI5CrqPeyyLT3FpGOMMeWpYBE5DAR6RCR10XkXyLyRxH5UDlpqup0VZ1VThrVRFyKIQlEZJSXn6akZUkSVR2rqu1Jy2EUh4jsDewD/Nb7X3YlraprVHU7Ve2J8thKUqiRGURVHwXWi8jHCh1bsgISke2BO4CrgHcBuwLfBTaVmmY9Ue+VtFH9iCM2L0oC78jZwM+0iNn5lbBWqpSf4cozP6pa0geYAKzPs78B+DbwIvBPYCGwg2//YUAHsB54CTjV234T8D3v9444JbcOeM37PcKXRjtwZo7rHwisAt4A/gH80NveBqwNHPsCcLT3eyZwG/BLYAPwELBP4NgZwBOeTDcCQ3z7zwKeAf4FLAZ28e1T4FzgaeB54F5v21vAm8BnA3IN9spnnG/bzsA7wL8BO3llst673gqgIUd5KDDdu/Z64BpAfPtPB5708vR7YHffviu8e/QG8CAw0bdvJvBT7/ca7zpvep9W4FTgPuByL+3ngY/meW5yli/wZ+BjvmMHAa8C+2VJpw1YC3wN9/z9HTjNt/8/gdVenl4CZvr2jfLyMQ142Tv364E8F3pG/M/TrbjnfwPwODDBd+wuwCLcM/488KUQz/AQ4KdAl3cvVwLvzlGe3wT+5l37L8BR3vZG4L+AZ719DwK7efsO8dJ83fs+JPDO/TfwR9xz+H7gg8AfcM/gX4DP5Lm/o3HP/QZgKe45/Gmg3M/APUv3kqceocx3OYtszwGHeb/3BDYCPbhneb2vfvoxsAT33h5NuGepyVd+s7zy2wDcBexU7LHe/qleuXQB3/HnPUveWnD10RvAn7x07yv0jgOTgc3AFq8cHvG2n4arLzZ45XZ24Hq7es/H4FzlraplKaDtvYwvAD4K7BjYfzquIn4fsB3wa+Bmb9/unuCfw1UiLcC+vhucUUAtwBRgKDAM+BVwe+BlyKWAOoGTvd/bAQcX8dBuAT7lyfZ1XMUwyHfsn4HdcJbfH33yHomrEPfHKY+rgHt911Hci/ouYBvftvfnKecbgP/2/T8X+D/v9xzgWk/OQcBEfEolkI7ilNVwYCSuwpvs7Tveu1d7Ak24F77Dd+7nvXvRhKvQX6FPKcxkYAXS5Dv3VK88z8JVeufgKvVccuYr328Av/QdezzwWI502oBu4BKvbI4B3sZ7Tr3943EV3N64Cv7jgXz8AtjWO25dkc+I/9iN3vUbvXt2v7evAfeyXwQ0496V54D/KPAMnw38P9x70QgcAGyfpQz+HVep7OLL1x7e7wuAx7xjBOd6avHK/DXgZO9+f8773+J759YAY739O3jXOM37vx/uHdgrz3t5uZffw3AVXvD5WeiV+zbkr0faKONdDpy3rXftnQPP7n2B427CKeZDvfs3hHDPkl+pPAt8wMtfO3BpCcfuhVMIh3llebmX11wK6BZcQ2hbYByuUeJXQKHecd/x/wnsgXt2jsC9W/sHjnkD2DuvHimkaPKe7Cqsm3AtzW6chn23t28Z8IXAy7DFy+AM4Dc50rwJr8LJsm9f4DXf/3ZyK6B7cS7BnQLb2yj80N7v29eAawFP9B073bf/GOBZ7/f1wA98+7bz8jzK+6/AkYFrF1JAR2fS9/7/EZjq/b4E56/OeX7gOof5/t8KXOj9vhM4I5Dnt/FZQYG0XsNrSRJOAT3j+z/UO+Y9OdLOV7674Bou23v/bwO+kSOdNlwLzC/LP/Eq8SzHzwX+N5CPD/r2/wC4vohnxP88LfUduxfwjvf7IGBNQI4ZwI0FnuHTcd6D/C+3s07+6T1DgwL7/gIcn+Wck4E/BbZ10uehaAcu8e37LLAicPw84OIsaY/E1RNDfdt+muX5eZ9vf756pI0y3uXAebt61/Z7M04luwJaWKDcsz1LfqXybd+xX6CvQVnMsRcBvwi8V5vJooBwjZQt9H+eZwfzFjgn6zue5/jbgS8Htv0NODzfeWX5b1X1SVU9VVVH4LTqLl7h4/1+0Xf4i7iH5t241u2zhdIXkaEiMk9EXhSRN3Av5PCQftczcC2Hp0RkpYgcGzZfuBYdAKrai1Owu2Tbj8tXZl+/PKvqmzgrcdcc54ZhOTBURA4SkVE4Jfwbb99luNbhXSLynIhcWCCtV3y/38YpSHAW6RUisl5E1uNcKZKRW0S+LiJPeoNN1uNavTsVkYet11XVt72f2+U4FnKUr6q+jFPAU0RkOM7y/lmedLpUtdv3f2uevfJcLiLrROR1nHsymKdc97nfvhzPiJ9guQ/x+jd2B3bJlLtXtv+Fe0cg9zN8M85NeouIvCwiPxCRQcGLquozwPm4CuSfInKLiGRkzPUOBt/bTN5zPcO7AwcF8nAS8J4caf/L9wwE08q2LV89Eoaw92m99z2smDQh9LPkJ9d7WMyxu9A/b2/j6pps7Iwrs+Dz7M9DUe+4iHxURO73Bp+txzUUg8cPo69csxJZB6KqPoVrHYzzNr2MezgzZFo//8AVxB4hkv0arsVzkKpuDxzubZcQ8jytqp/D9ZV8H7hNRLbF+W2HZo7zlNnOgdN38+1vAEZ4+Rmw38tXZl+/PHvXa8G1BLaKVkj2QD56cNbK57zPHaq6wdu3QVW/pqrvA44DvioiRxWTvsdLOB/ucN9nG1XtEJGJONfXZ3Duq+E4F0S2e1BU3vKQq3zBuXw/D3wa6FRVf9kWw89xFvtuqroDzpUZzFM+OQo9I2F4CXg+UO7DVPUYyP0Mq+oWVf2uqu6F6685FtcfMABV/bmqHoZ7LtVLJ3PtbO9g8L0Fl/dcz/BLwD2BPGynqudkSfvvwLtEZKhv225ZjvOnn68eieJddhdUfYs+d1c2OXLJB+Gepaj5Oy4vAIjINri6JhvrcGUWfJ4z5xZ6x/vlV0QG4/otL8d5vIbj+sTEd8yuONfgX/JlopxRcB8Uka+JyAjv/264CvJ+75BfAF8RkdEish3O5Pul1yL9GXC0iHxGRJpEpEVE9s1ymWE4N8p6EXkXcHER8n1eRHb2Wj3rvc29wF9xLdD/9FqN38b11/g5QEQ+6bVSz8eN7Lvft/9cERnhyfQtXCdnJs+nici+3k2aDTygqi/kEfUfOP92Pn6Oc3Wc5P3O5PFYEXm/iAjugenx8lgs1wIzRGSsl+4OIvJpb98w3MO7DmgSkYtw/X/ZWOddv1B+CpGrfMGZ+vsDX8b1FZTKMFxrfKOIHAicmOWY73hW+FhcH4dfjkLPSBj+BGwQkW+KyDYi0igi48SbypDrGRaRD4vIeK/CfQPnXhlw30Xk30XkSO9Z3Ih7lzLH/QSYJSJjvNFse4tIC64i+YCInOi9m5/FuQ3vyJGHO7zjTxaRQd7nQyKyZ/BAVX0RN6hipog0i0grUGiobr56JIp32c8SXH9Ghn8AI0SkuYCMYZ6lqLkN+JiIHOLJN5McSs9rxP4aV+5DRWQv4BTfIYXe8X8Ao6RvxGMzrpzXAd0i8lFgUuCyRwB3q2reUdHlWEAbcD7sB0TkLdxN/TPOagHXeX4zzm32PO4F+CK48e44k+1rOHfPw7hO0CBzcZ1vr3rp/18R8k0GHheRN3EjPE5Q1XdU9XWcL/UnuFbdWziz3M9vcRX+azif+CdVdYtv/89xI1Kew7WavuflayluNMoiXAtlD+CEAnLOBBZ47ovPZDtAVR/w5NwF11+TYQxuJNGbOD/9j1R1eYHrZUv/N7iW8S3iXJ1/xrm3wLl6/g/3sr+Iu49Z3YieG+C/gT96+Tm4WFk8spavd413cOU7GvdSlcoXgEtEZAPOn35rlmPuwbk4lwGXq+pdvn2FnpGCeBXDsTi36vO45/wnOPcH5HiGce6t23DK50lPzpuzXGIwcKmX7is4S2qGt++HXp7v8tK5HjcwpsuT6Ws4l843gGNV9dUcediAq3xOwFkWr+CepaAiyHASbnRkF+6+/pL8Uzfy1SNRvMt+5gMneQ06gLtxoxZfEZGs+fcI8yxFiqo+jiuHW3B1zZu4/r5cZXkezn33Cs5TdaNvX6F3/Ffed5eIPOTd8y/h8vkaTuEuDlzvJFzDNi/idRYZHiIyE9ep//kc+1/ADXxYWkm5jD68FtoHct2jCNIfRd9oqe4s+2eS5xkxwiMivwSeUtXQ3o0i0p5JkfdJRH4O3Kqqt0ctT5x41uF6YIyqPp+wLHsD81S1tdCxNhnSqCo8t9wZuNasUWV47sV/4RT8JNxQ+ksTFcqHqlbCfRYJ4iINLMO53i7HDat/IUmZYGskhILKB1IYC84wciEiZ+FcA3eq6r1Jy2OUxHtww4vfBK4EzlHV1YlKVL0cj3N7voxzx5+gVebSMhecYRiGkQhmARmGYRiJUHV9QDvttJOOGjUqaTEMwzCqigcffPBVVQ3Ok0qUqlNAo0aNYtWqVUmLYRiGUVWISDDCReKYC84wDMNIBFNAhmEYRiKYAjIMwzASoer6gLKxZcsW1q5dy8aNG5MWpe4ZMmQII0aMYNCgAcGZDcMw+lETCmjt2rUMGzaMUaNG0RfGyag0qkpXVxdr165l9OjRSYtjGEbKqQkX3MaNG2lpaTHlkzAiQktLi1mihmGEoiYUEGDKJyXYfUgvnZ0wZ477Now0UBMuOMMw8tPZCUcdBZs3Q3MzLFsGraHCRRpGfNSMBZQk69ev50c/+lFJ5x5zzDGsX78+7zEXXXQRS5dGs/rDqFGjePXVfEubGLVIe7tTPj097ru9PWmJDMMUUCTkU0Dd3QOWk+nHkiVLGD58eN5jLrnkEo4++uhSxTMM2tqc5dPY6L7b2vrvN/eckQSxKSARuUFE/ikif86xX0TkShF5RkQeFZH945IlKxG+cRdeeCHPPvss++67LxdccAHt7e1MnDiR4447jr322guAj3/84xxwwAGMHTuW+fPnbz03Y5G88MIL7Lnnnpx11lmMHTuWSZMm8c477wBw6qmnctttt209/uKLL2b//fdn/PjxPPXUUwCsW7eOj3zkI4wdO5YzzzyT3XffvaCl88Mf/pBx48Yxbtw45s6dC8Bll13GlVdeCcBXvvIVjjzySADuvvtuTjrppLLLykiG1lbndps1a6D7LeOe+8533LcpIaNSxGkB3YRbUjgXH8WtYTEGmAb8OEZZ+hPxG3fppZeyxx578PDDD3PZZZcB8NBDD3HFFVfw17/+FYAbbriBBx98kFWrVnHllVfS1dU1IJ2nn36ac889l8cff5zhw4ezaNGirNfbaaedeOihhzjnnHO4/PLLAfjud7/LkUceyeOPP86nPvUp1qxZk1fmBx98kBtvvJEHHniA+++/n+uuu47Vq1czceJEVqxYAcCqVat488032bJlCytWrODwww8vuYyM5GlthRkzBvb9mHvOSIrYFJC3YNi/8hxyPLBQHfcDw0XkvXHJ048KvHEHHnhgv7kwV155Jfvssw8HH3wwL730Ek8//fSAc0aPHs2+++4LwAEHHMALL7yQNe1PfvKTA4657777OOGEEwCYPHkyO+64Y1757rvvPj7xiU+w7bbbst122/HJT36SFStWcMABB/Dggw/yxhtvMHjwYFpbW1m1ahUrVqxg4sSJRZaCUQ0Ucs8ZRlwkOQpuV9zqlhnWetv+HjxQRKbhrCRGjhxZ/pUzb1xmSFAMb9y222679Xd7eztLly6ls7OToUOH0tbWlnWuzODBg7f+bmxs3OqCy3VcY2NjwT6mYhk0aBCjR4/mpptu4pBDDmHvvfdm+fLlPPPMM+y5556RXstIBxn3XHu7exXSNDquszOdchnRUBWDEFR1vqpOUNUJO+8cwXIW+RziJTBs2DA2bNiQc//rr7/OjjvuyNChQ3nqqae4//77y7peNg499FBuvfVWAO666y5ee+21vMdPnDiR22+/nbfffpu33nqL3/zmN1stnIkTJ3L55Zdz+OGHM3HiRK699lr2228/m+NTw+RyzyWJ9U3VPkkqoL8Bu/n+j/C2VYYI37iWlhYOPfRQxo0bxwUXXDBg/+TJk+nu7mbPPffkwgsv5OCDDy77mkEuvvhi7rrrLsaNG8evfvUr3vOe9zBs2LCcx++///6ceuqpHHjggRx00EGceeaZ7LfffoBTQH//+99pbW3l3e9+N0OGDDH3m1FxrG+q9hFVjS9xkVHAHao6Lsu+/wTOA44BDgKuVNUDC6U5YcIEDS5I9+STT9a9e2jTpk00NjbS1NREZ2cn55xzDg8//HAistj9MKLAJs9Gi4g8qKoTkpbDT2x9QCLyC6AN2ElE1gIXA4MAVPVaYAlO+TwDvA2cFpcs9cCaNWv4zGc+Q29vL83NzVx33XVJi2QYZZHmvikjGmJTQKr6uQL7FTg3ruvXG2PGjGH16tVJi2FUkHrooG9trd28GRYLzjCqEnNPGbVAVYyCM4xapJxgHNXcQR9X2B8LJ1R9mAVkGAkwfz6cey709sLgwcVbMBWYyhYLcVluhdIN466sB5dm2jAFZBgVprMTzjsPMnOIN21yFV8xlV61dtBns9wKyR5GMeRLN4yyN5dmMpgLLgKqaTmG7bbbLuv2a6+9loULF+Y996abbuK8886LRI56pr3dVZQZGhpKs2DSOHm0EMWG/Qk7GTVXun5l39vbp+yDVLNLs5oxCygCMgroC1/4woB93d3dNDXlLuYlS5YUTP+SSy4pS74wTJ8+PfZrGI62NtcS37TJVZhXX11dSqQcirXcwlpMudINq+yr1aVZ7dStBRRlh2W1LcfwrW99a2tg1H/84x8AzJw5c2tk7ZUrV7L33ntvzc+4cX3ziF9++WUmT57MmDFj+MY3vlF+4dUhmcrye9+De+6BadOSlqiyFGO5FWMxZUs3o+wbGmDQILjmmvwKLKLoXEZYVLWqPgcccIAGeeKJJwZsy0dHh+o226g2Nrrvjo6iTh/A888/r2PHjt36f/ny5Tp06FB97rnntm7r6upSVdW3335bx44dq6+++qqqqu6+++66bt06ff7557WxsVFXr16tqqqf/vSn9eabb1ZV1VNOOUV/9atfbT3+yiuvVFXVa665Rs844wxVVT333HN19uzZqqp65513KqDr1q0bICugixcvVlXVCy64QGfNmqWqqhdffLFedtllqqo6duxY7fAK5Zvf/ObWvN144406evRoXb9+vb7zzjs6cuRIXbNmzYBrFHs/DEdHh+rs2eU/j7UiR4Zy5UlbfpICWKUpqMP9n7p0wZXSEVos2ZZj+M1vfgOwdTmGlpaWfueUshzDr3/9a8Atr5BJP99yDM3NzRx77LFbz//DH/7Qb//69evZsGEDrV6BnHjiidxxxx1b9x911FHssMMOAOy11168+OKL7LbbbhjlkZZO8CTkKDTIoNzJqDaZNb3UpQuuEuuf5FqO4ZFHHmG//fYLtRxDrqUWylmOYdCgQVujWpdyflgZjeJIQyd4ZyfMnOn6piolR0bhffvbcMQRbsRa2PMqOefH5hjFQ10qoKj9vdW4HEMuhg8fzrBhw3jggQcAuOWWWyKT0chN0ovCZRTB0qVutFhDQ2XkaG93Cq+3F7ZsccOlC1Xy8+fD4Yc7pRUcGTd/PvzHf4RXZGGwZSHioy4VEEQ7hLUal2PIx/XXX89ZZ53Fvvvuy1tvvbXV5WbER9Kd4BkLLKN8jj46nBzlWgZtbU7pZujtzW915RtWPX8+nH023HWX+45KCaXBOq1Zku6EKvYTxSCEWmTjxo26ZcsWVVXt6OjQffbZp+S0NmzYsPX3nDlz9Etf+lJR59v9qD5KGZgT1WCeefNUm5pUGxoKpzN7tqqIKrhPU1Pf8ZMm9W0H9z8Koh60lBTYIAQjLqJcjuF3v/sdc+bMobu7m913352bbropOkGNVFJKZIWoBvNMmwbjx4e79vr1Tr1kOOSQvt/77uusnwxTphQvSzaqNepENRDrgnRxYAvSpR+7H/VBpUfMdXa6gQpbtvTf3tQEX/0qXHUVbNwIIvC5z8HYselTGEnGm6urBekqjapuHd1lJEe1NWiM0mlthblzYdEiZ23EXaEGoxpk6O4Gbw41qk4B3Xqr6yNKU1y3tAy1TxM1MQhhyJAhdHV1WeWXMKpKV1cXQ4YMSVoUo0zCDC7o7ITzz3cV6flf6qHznIWxDhHzRzVobHTffvzbe3oGDhpIeii1DWYYSE1YQCNGjGDt2rWsW7cuaVHqniFDhjBixIikxTDKIGxLvV+F2tNL+7y/0LpgeqxN+1NOcd9Tp8Jjj7kRcT09TjHNnQtdXdDS4hSjP65bGqwPizc3kJpQQIMGDeoXdcAwjNIJO7hga4W6sYdm3UKb3p3zhHL7PoIKZOrU/IMXgtvnzIk/+kkhbDDDQGpCARmGER3FtNRPOQV4ZR1Tl5wA3Y3Mkf+ireVY/HVrMdZHRlG1tDhrJlNR51KKucLsBLenxfqwsED9MQVkGEY/wrTU+yuV97Df+ddz/v+OZHNPE83nC8vG918SIYz1kUkzExmhoaFvAblyFUgU1oetmBo9poAMowYpt7LM1lL3pxlUKose3oPNvdDTO1DJhFUe/mgM4L4zac2YUb4CKcf6SEMfUi1iCsgwaoywlWUxSiqY5ty57nvTJjfsed99YcWK7Eomm/WR7doZReW3gPxpxeW+KmXJ74ULzRqKAlNAhlEugRosaVdNGJdXsS36YJpdXU4JZUahXXVV3yi0bPn2K49c1/YrqmAfUNT4+5r8I+ZylYPfimtqghtucPk2a6g8TAEZRjkEatPOuQ9w1PnjUz/ct9gwOtnSbG93lkrGVdbV5Vxl2cjnvvNfuxKd9P5bJtI/D2GW/F6zBq67buB8nrgbHUk3bOLAFJBhlEOgNm1f1FUVw33D9sv4K71saRZKo7PTuav8FkPGfZfUiDT/LctMXhUJt+R3xn24YEGf/C0t8OEP9/1fvjz6e16rfVCmgAyjHAI1eduUFppz9IVUkkKWRPEj3dzxfgunUBqZ8zdu7AsgmrGUkpwPE1S++VyH2Qjme+FC128F7vv8812aUearEqs4J4EpIMMoh0Bt1No6nmUhIzvnolKuFn+Lfs6cgdcLU+nlU3SZ8zPKx29lJDkfJooh2f4h5q+80n/fn/7kFG8hK6WY+5yWeUxRYwrIMMrFXxsBra2tkQz3bWyE0093s/6jrKz9FR/kdu0EO97XrHHnhpGls9Md3+TVME1NcNpp0eelVMpVgPPnu9Vbe3th0CCXP//q9IWslGJdajUbRSHfYkFAK3AN8CiwDlgDLAHOBXZIYgGjbAvSGUaiRLhi2ezZLpnMomoi0S6CFhR1+vS+6zU2uuv7mTdP9cAD3cJvwex1dLjjg7L5r9Hc7K5RrYu4ZctjR4fqoEF996ihweVx+nTVwYMLPwYdHW6xvIaGvvMnTYq/jKimBelE5E7gZeC3wH8D/wSGAB8APgz8VkR+qKqL86QxGbgCaAR+oqqXBvaPBBYAw71jLlTVJcWrUcNIkAgd9BmrI9Nvohqtzz8oKuR27cyf37f8dcaN5l8CO1cL3n8NgJEjq7PFnstKCS4L0dDQZ9lNnRquXy0z1ykzCm/pUjePqlYGF4QlnwvuZFV9NbDtTeAh7/M/IrJTrpNFpBFnPX0EWAusFJHFqvqE77BvA7eq6o9FZC+cdTWq+GwYRowUctZH6KDPuFoWLoQbb3SVf5Q+/6CoU6dmrzTnz4dzzumLSpCht9eN+mpv76tEM0opbOSDahlOnKtdkVkWYtMm5yb9ylf6lHIh154/2kNDA7zvffDcc4WHgdcqORVQRvmIyBeBn6rqa7mOycGBwDOq+pyXzi3A8YBfASmwvfd7B5zFZRjpIYyzPmIHfaYSmzoV2he+SBv30MoYyIT4LKMGzydqphIFZ/kElQ+4SjOz5IE/ZE5LS/9r5FqoLm3DifMVZS5FGpwwG2Yia640L7hg4NIRdUUhHx3wPeAZ4FZgMt4y3iHO+xTO7Zb5fzJwdeCY9wKP4Syk14ADcqQ1DVgFrBo5cmTJPlDDKBp/p0y2ThLN3RdSNtn6liLsb8p1menT+/onMv1Qgwb1v+Ts2f37MPzFkk/EEMWZU8aoyzhMURa6bin5CaYZ2/MTgGrqA/IpqG+LyHeAScBpwNUicitwvao+W6b++xxwk6r+j4i0AjeLyDhV7df2UtX5wHyACRMm2LKnRuUo4E+KtUWfzQcEkU8IydYv5HcxXX119nV3Bg/OXiz5usRK8VbGVcblDjOH0vITTDPJIelJE2oYtqqqiLwCvAJ0AzsCt4nIH1T1GzlO+xuwm+//CG+bnzNwVhWq2ikiQ4CdcAMeDCN5CrjXYp0gmKt2i3BCSGa4dGNjX9KZfqGFC9228eOzV5q5iiVfpVyKt9Jfxps2wcyZ7lNuOUfRdVezw6MrRSETCfgy8CDwe+DTwCBvewPwbJ7zmoDngNFAM/AIMDZwzJ3Aqd7vPXF9QHldfDYM20gTMXjEBl4g2zjgCHw2ftkHD+4/XLrcfEXpVsrI4nf5RVXW+eSslGusUlCNLjjgXcAnVfXFgOLqFZFj8yi2bhE5z1NcjcANqvq4iFziFcRi4GvAdSLyFdyAhFO9gjKMqiD2FnA2/0xEPpt8w6WzWnaEH/wQpVspU8YzZ7rhylGOGMslZ9oGS9QqYRTQncC/Mn9EZHtgT1V9QFWfzHeiujk9SwLbLvL9fgI4tCiJDSMfCYzxTbsPP9cy1/lcUG1tzi3X2+u+21oeS7RGbm11CijXmkNRU6ux19JGGAX0Y2B/3/83s2wzjOSxZusA8i1zXch6E/F9r14dXY1cYiOhkv0tfuXc2FhcGCIjPGEUkPjdYp7rzWLIGenDmq0D8E98hIHuq1zWW3t7XwSE7m5o5whaoxj8UGYjoVLWZnBC8HXXuSUYrE0TLQ0hjnlORL4kIoO8z5dxgwsMI11kmq2NjTUxqy8Tpbqzs/Q02tqguamHBnoAHbDMdd7z/EU5dXdX+86aVV4tHGgkdC58uuw8xkVrq+sX6+4eOBLeiIYwlsx04Epc2BwFluEmhhpGuqihMbFReRNb6WSZzqBdDqWl8TW6zvwmbVN3L5hW9qLMbX4EvWo5vWw+31Zn42EcdeNJbO5Or8e0VpdBSAthJqL+EzihArIYRmEK9R+kfURASCLzJi5cSOuWe2nVe0AbYeRu0Doj1KlhijLXiqc5w9P4NFv7mhPZfF1jwTwmGTuuhto0qaSgAhKRnYGzcEFCtx6vqqfHJ5aRCGmPEpnmQQYllF0pcchynZc1rc5OpxkyXbhNTZE24XOteLpoUQHl6Wm2tk5oXpDfushE5O7p6T94opLUSJsmlYRxwf0WWAEsBXoKHGtUK2mu3DOkdZBBCWVX6JRcLe9s50GOtPzrBoi4FeFClNcAZZZDU2ZuR0b5ZFY8nTIl3HDpQtZFZ6db9C2z0NvGjc7aSsMtN6IhjAIaqqrfjF0SI1miqtzjtKLS6pAvoexKjUNWVHi4bGsvkP8WDVBwcx+j9fzsmjK4Yqp/xdNsseOykc+68OtPcIruhhviX1U17Y6AWiKMArpDRI5RWyiutomico/bikqrQ76Esit1ueuiwsNlKa9Ct2iAglvURWsOTZnvdkThtmpp6bOuMvT0xGv4RvkImyILQaFYPcAGoBd4B3jD+/9GUrGDLBZcjJQb/KrUWPsRUkoWIon5VUIiHR0u/lpzc3Ex1wqFh8spSkeHzp60XBsbenPeogEx4OY9GluwuzBLHQSXhYgl3l7gmgMe4RLvbawxAkuAFMaCS1yAYj+mgFJMhd66XPVBKZdPuqKIWmfnzI+3o6PhUN2Gt7SxoTf8GjhZCrxcpR12LZ5cwVLjIioFnIK22ADSqIBCRTQQkR2BMcAQn+V0b8TGmFHtlOoiK8JXkc9FUko3VtLjGqLyfGaKL2d+vB2tvX9kWcMk2o/+Hm0z28KNZA9siMJNFbYPrNIe1wHXbL9jwMTZ9vbWgvKktbsydRTSUMCZuFVLXwOW41xxdyelMc0CqjGKNEHytSyr0QLKyFC0NeGd1DHv0X7yz5uX3wIqlNEwskTRus+12Gvqlj/wCdrRfIRuM7h7QBHms8jTlB+q1AL6MvAh4H5V/bCIfBCYHY86NOqOIk2QqBc7S8O4hqI77H0mSLu8w+becfT0Cps3u2jXWfOTI6N+6wnCWTbFzlHKlWe/OGGvXSxlDwQoMHE2n9w2fygEhTQUsNL7fhgY7P1+PCmNaRZQjVGCCZK2lmXF8ZkgHQ2H6jaDNpdkwQWLfvr08JZNroEQpVqTxVhVYe9/1NZttvTS2NeTC6rUAlorIsOB24E/iMhrwIt5zzCMsJRggtR9y9JngrQ2P8SyuU/R3jU+VPHl6i/auBFeeSV8v0XYOUph71PYPpNi+p+i7t/L9ahaX0/phIkF9wnv50wRWQ7sgFukzjCiIUUaJa1zN/rL1b8mbG0dTxhRg5X33LluDlJPjxvovGQJXHVV/0XriqGojvdAQYdthxSjVOIYCBB8VNPgwq1qCplIwM1htlXqYy44Iy7SMCAhG1HJlc1dNH26m18T5TDwQkO482Vo3jzVSZPcd670iymLunfX+qBKXXBj/X9EpBE4IHJNaBgJU5LLpgImU1SupFwWwYICAUGLoZ+FkMtfliND8+fD2We7U++6y31PmzYw/aDFke8WpMi4NrKQUwGJyAzgv4BtROSNzGZgMzC/ArIZRkUp2mVToQCubS2P0dzwQTZrE83NQkuLW6iuWJ2Xy10Umwspl+bMUdCLFvU/fdGigQook498wVlN4VQPORWQqs4B5ojIHFWdUUGZDCMRivbnR9zLnWtJhdbzj2JZz/60NxxJyxdP4fzz9yi5ws1mEURpJfTLQy6NnqOgp0zps3wy/wtF5g7egoULrT+mmgjjgvuTiOygqq8DeCPi2lT19jgFM+qchEYDhK6MOztdBNHGRvffq2CLFTtzfEtLjkXcfBEMWuV+5jx8JJs375G6FSkgmzXSSmsR0Uoz1s6iRU75jB9fODJ3W1trv6Cu/oXxorCG0joopWYo1EkEPJxl2+qkOq1qahBCGntI0yBTMT3NScibI0hZKR3kmeMHDeoLvNlvMEAg0WDkgyjmtkRVfMXOiQkTjLRfepOWZ71AJp2w85iSmkeUNFTpIISGLNtCxZAz8pBG53VaZArr2opK3izN3LwtX798ACNHOnfQnOI8cu3tsGkT9Pa6YdANDX2LuuVaUqG1dTzLxjtXU7mEKb5iLIBi+tDCXHtAelNaYMXAC2SMqc7OwgMqkpxHZAwkjCJZJSI/BK7x/p8LPBifSDVCoTc3jU93WmQKW5NFIW+WGqmT1vyVVA752tqcEunpcd+FBjG0tDjlA+7761+H4cOzPDJZ3FWZinbBgtL1bnAianC10WL1ezF9aP5rb9oEM2e6T9BLN3dun0uuddp4GJ/7AmGun/Q8IiNAIRMJ2Ba4FFgFrMTFgds2KZOtKlxwxcaaT4t9nyaZwvhJopA3i98olCspi3zz5unWtWsg91wW/6UzbreGhvBzcKIK/9LR4dYiysg7eHD/IowzzEzm1vnzH7yFHR3qgn9Kj24zuDuSxzGOeURp8FqHgRS64MIfmKDS8X+qQgGFfXPT+OSmUaZ8xLAwTal6bdKk/gpo0qT8svor4aamwgorj8glk28iatztkY4OV0ZZ+75Udfb0F7SRLW4fm3X29Bciu25Uj3ia2myFqEoFBBwCPAGs8f7vA/woKYGrQgFV01NpZK2ROjpcBdgxfUHo+5fNAtqadI6FzebN6xuAUMyjUmwlGjw+8z/X8g3+/WGvk0+mfEsW5HpVOqYvcIvnsVm34S13L0rIe5xYMNL4FdADwG74Rr4Bf05K4KpQQKrpektqnVJqyzBpltCI8IeS6ZfEoM3a0XDogJqqEhVYMCtBpRMstlKynleRFEgv56vS0aEdzUfobPkv7Wg+oizrNC7SJk8+0qiAQo1mU9WXRMS/qSfMeSIyGbgCaAR+oqqXZjnmM8BMQIFHVPXEMGmnHosBUhkyPeWZ4WQNDTB4cPkj+Eoc4DBtWt98ljn+UXHaRHvDkbTK/XQ2Hkb7mhNp66xMR3cwK4sW9f/f1QUzZuQ+PkzW851TKL1gZAN/0NXW9jm0trdD25ySRhoWotx5PhaMtDzCKKCXROQQQEVkEG6BuicLneTFjLsG+AiwFlgpIotV9QnfMWOAGcChqvqaiPxbKZkw6phM7eYfThZFzVSOZvBqtbaWY2luHu8lIbTN/TSdq9/PUTeexObrGmn2RrDFXYEFszJlCqxYkTtrpWQ93znlLbXQvyE3IK2Wx2DOHSUVXlSj+K2tWTphFNB0nBWzK/Ay8HvcUOxCHAg8o6rPAYjILcDxuP6kDGcB16jqawCq+s/wohuJkLap4ZkayW8BRRVVsxTN4KvVWptnsWzuA761esYzZ854Nnf3b8HPmFF6UYa5HZmsZOYOjR+fP2ulZD3fOQOGU5cx76bfdVoeo/X8g/JqkHzlY2F8UkBcvj3gUzi3W+b/ycDVgWNuB34A/BG4H5icI61puGHgq0aOHFmaA9Qon7Q6vOPoAyqVPJ06HR1u1FlzczRFWGzAiHx9NHEWW1g5s/VV5Rq4MHu2G6SQrwMtTN+TP6BFVPclrVCNfUAi8j6cBXQwrp+mE/iKepZNmTQBY4A2YARwr4iMV9X1/oNUdT5eBO4JEyZoBNc1SiEtE1WDxO0DiSAcgN/d09QEZ50FU6dWrpuqfeGLbN64Gz3a0O/YSgS/CCun37rJFRuvn7xNJ7Gs8QZauS+r1Rum7ylzvTVr4Lrr0vdo1zrZwuwE+TlwK/BeYBfgV8AvQpz3N9zouQwjvG1+1gKLVXWLqj4P/BWnkIw0kqlcGxvrZ2p4psb7znfcd2dn/uMztdqsWf1qc39l2N29NXpPWYS+HZ2dtN1wCs26kUa20NzU4/WdzHGKKVBJ56Oz0w2uCBZDru1FyYkrkxkz3MCIbHL1UyrdjbSfvmBAWRdz3cz1pk6N/tHOVyaGRyETCXg0y7ZHQpzXBDwHjAaagUeAsYFjJgMLvN87AS8BLfnSrZph2LVKvQ0vj2ic9FZ3T0OvG5I979GyRcu49LxYqAP2bb1NXh46ONgNaf7497f6njqaj3DRBkK4nubNcxNmg3OWwgb+KHbeUq75SbGsiNrRofM+/juddOC/Qk8ILkX+JCGFLrgwCuj7wIXAKGB34BvAHOBdwLsKnHsMzqp5FviWt+0S4DjvtwA/xA1MeAw4oZA8poCMihJhTdIx71Gd3fQdNx/IF0U7arEG7AtOgg2Eje6YviBUuJlBg3TrJFt/6KC45jLlm7waaRvIm2/kJr1uiSTsTxonqKZRAYUZBfcZ7/vswPYTcH1C78tjXS0BlgS2XeT7rcBXvY9hpI8IJ3q0dt1Bq86G3h7YBMybV3I00aLm3XSN778uD/QLG906dUyoeT6Z4N/QP9hqXHOZcnXtRd7l195O+5ZD2UwzPTSxeXNPoqP464mCCkhVR1dCEMNILVHVeJlaaePGvog9JfZ4Fz3vJpiHIpVqW5ub37tpk+snufrqvtOqfjJmWxttg2bQvHkzm1GamxtKVxjegJXWtjaWLWut3jKpEOKMkDwHiMwCZqpqj/d/e+AKVT2tAvINYMKECbpq1aokLm0Y5dPZ6SacRLB0Z77BeXFM10rbFLBI6eykc+HTtHMEbVN3Ly1/aVlPKwci8qCqTkhaDj9hFNAcYBJwGvBu4GrgKlW9On7xBmIKyKgIcde2NV2b1w/9bmP7HDdasqfHmYmzZvWPcZQwaVRAYVxwM0RkKS4o6WvA4ar6TOySGUZSVKIla/Fbqp4Bj8ncY2ltnmUdP0VQcB6QiBwOXIkbvdYOXCUiu8Qsl2GUTcnzMLL18MdA1PNE0jDvpFQZ0iB7sWQb7JFtDpiRmzCj4C4HPq1eEFER+SRwN/DBOAUzjHIoy4hpaQGR6OLKRS1fBdKrpAxpkL0UQg32MPISJhJCq/oiWKvqr4FD4xPJMMqnZCOms9PFgOntdX78uXNjqVCiNrL86W3aBDNnVt6aKDVPoc9LmZmUI+iFUQQ5FZCIzAVQ1R4R+XJg9//EKZRhlEvJUYP8yzv09rqYMCUSVXiaMGln0mtocGIvXRouclCUlJqnUOcVGxKpQmRC+ZjyKY18LrjDfb9PwQUkzbB3POIYRjSUPDclohmEhdxK5cydyZX2smXO8lm61FsWaZPSPvMeWmcOrkgNWWqeQp0XQSBcG3iYQnKFSKD/EtyrA/seSip0g4XiqTypCP9WSSEiuFacoVjypd0v5hxvubA/aQlGVg5lhkRKY2y2SkOVheJpEJEdcW66zO/MutyN8alEI02kooO40kIU6EgO05KOMxRLvrS3WhMz76Ft6bdp7f0jbG6s/vUFygy3kNaVROqdfApoB+BB+pTOQ759tiZPLeOrYdvbW5N/ceOoPUr0x4TVhXGGp8mZti8MTOvMwbDiIad8EpqTErnLq4wRZhabLZ3kVECqOqqCchhpIVDDts19gObm8cm+uFHXHmVYVMXownJG5BaqvAeknS1PCQZoS4XlnBEkpbHZrE8q3Dwgo54I1LCtXXewbNn4ZF+UqM2JMiyqOHRhMFslVd7Z8pTg8KxUuLwCBdm6bBmtM9JR06dGQSeMKSCjP1lq2FTMrYtSiDK0SJS6MFclVFLlnTIfUyrESYUWzE6KRasopoCM/lR9bP0Q+PPY0tI38zFkXqPShbkqoZIq75Tdt1SIkwotmJ0Ui1ZRCkbDBhCRw4AxqnqjiOwMbKeqz8cuXRYsGrYRGQn7QfJd3voHIiLFBVlp0aoyGraIXAxMAP4duBEYBPwUC8djVDsV8oPkqmjyWQmpcHtWkNgq4xQXZIpFqxhhXHCfAPbDG4atqi+LyLBYpTKMKMlVu1XADxImIkK9V0K5yijFxosREWEU0GZVVRFRABHZNmaZDCM68mmACnRUWGdzYXIFI7VRYrVPGAV0q4jMA4aLyFnA6cB18YplGBERqN06Fz5Ne3trn74JY4KU0RS3zubCZCsjU9z1QU4FJCKDVXWTql4uIh8B3sD1A12kqn+omISGUQ6+2q2z8TCOuvEkNncX0aouc6BCKkaDpZxcZWSKu/bJZwF1AvuLyM2qejJgSseoPny1W/uaE9l8XWNxreoImuLWz1OYYBmZ4q4P8imgZhE5ETjEWwW1H+oWpjOMylKKO8yr3do6oXlBka3qtPrQ6qCH3hR37ZNPAU0HTgKGAx8L7FPAFJBRWZJwhyXRFC+kXGzYWGqxW1Ac+YKR3gfcJyKrVPX6CspkGNlJyh0WPCnOWiaMkrVhY6nE4rsVT75BCEeq6t3Aa+aCM2KjmMo8De6wuGuZMErWho2lErsFxZPPBXcEcDcD3W9gLjgjCoqtzNPQMx13LRNGydqwsVSShvZRtZHPBXex931acJ+ITIlTKKNOKKUyT7pnOu5aJqyStWFjqcNuQfGECkY64CSRNao6MgZ5CmLBSGuIanWaW09zcVh5pYKqDEaaAyl8CIjIZOAKoBH4iapemuO4KcBtwIdU1bRLPmrpZa5QkzFNS0PXHdXayDAqQqkKqKDZJCKNwDXAR4C1wEoRWayqTwSOGwZ8GXigRFnqh1p8mWOuzPsVWVMPy077Ga1Tx9iw5SgIU37WM2/kId8ouMfIrmgEeHeItA8EnlHV57z0bgGOB54IHDcL+D5wQRiB6xp7mYumX5H19NI+7y+0LpgOc+fC+efXljKvJGEbQ9Yzb+QhnwV0bJlp7wq85Pu/FjjIf4CI7A/spqq/E5GcCkhEpgHTAEaOTKTrKR3Yy1w0W4tsYw/NuoU2vduV36JFpszLIWxjyHrmjTzkU0BrtMAIBRGRQsfkObcB+CFwaqFjVXU+MB/cIIRSrlcT2MtcNFuLbOFa2m44hdaelU4jTZkCK1bUvjKPy81YTGPI+syMHORTQMtFZBHwW1Vdk9koIs3AYcApwHLgphzn/w3Yzfd/hLctwzBgHNAuIgDvARaLyHE2ECEP9jIXjSuy3WHqnP6V8fjxta3M4+wztMaQEQH5FNBk3No/vxCR0cB6YAhuRNtdwFxVXZ3n/JXAGO/cvwEnACdmdqrq68BOmf8i0g583ZRPFVItnfnZ5s6kWd5yyzXuPsO0l5+RevJNRN0I/Aj4kYgMwimLd1R1fZiEVbVbRM4Dfo9TWjeo6uMicgmwSlUXly29kTy1ODIvDURRrtZnaKScUMOwVXUL8PdiE1fVJcCSwLaLchzbVmz6Rgqo1Mi8tFpZcckVRbkWcpOltUyNuqHUeUCG4ahEKzttVlam4m5pKW8odz4FEFW55nKTxVmmptiMkJgCMsqjEp3RaZr/5K+4GxqcTL29xcs1fz6ce647d/DggQog7nKNq0zT1lgwUo0pIMNRTqs17s7ouKysUvLsr7hVnRISKU6uzk447zzo7nb/N23KrgDiLNe4yjRNjQUj9RRUQN5aQN8H/g0XBUEAVdXtY5bNqBRpb7XGYQ2Umudgxf3FL8LDD7t5RcUosZ6evv8NDZUfIBCXhWUDH4wiCGMB/QD4mKo+GbcwRkJUQ6s1amug1Dz7K25/H9CKFW5eUVglNniws3waG+Hqqytb3n7Lb8aM6NLK3CObH2SEJIwC+ocpnxqnHlut5eQ5U9HOmVO+Eqt0JR2ltZsrLZsfZIQkXzDSzDLcq0Tkl8DtwKbMfluSu4aox1ZrFHmOQomVQjn9dVFau9VgORupJp8F5F+K+21gku+/LcldzWSrwKqx1VrucN9y85yE4i7XgonS2q1Hy9mIlHyREE4DEJFDVfWP/n0icmjcghkxkeSAgyjnh6Rl4ESlFXe5VkeUSrMeLWcjUsL0AV0F7B9im1ENxO02yaVkolYYYfNRS5MiOzthzRo3cAFKtzryKc1iy6saLWcjNeTrA2oFDgF2FpGv+nZtj4vtZlQjcbpN8imZqBVfmHykxUqKAn9emprgrLNg6tToGw+1Ul5GVZDPAmoGtvOOGebb/gbwqTiFMmIkTrdJPiUTleLzt9AL5SNKpZeEJeW/pj8vACNHVk90BMPIQb4+oHuAe0TkJlV9sYIy1QZpdv3E5TbJpmSKURiFyNZCzzePJUqll7luYyOcfno01ke+ZySY17lz4+/wt0EFRoXJ54L7f7jRbngLxvVDVY+LT6wqp15dGUHrCopTGIUotoUelbXnv25PD8ybBwsWhLuvpfaJBfPa1RV/h39So/rS2lAzYiefC+7yiklRayxcCBs3ulhh9ebK8FtXpU7UzEUpLfQorL3MdTP3NOx9zSgZf8SDadPcvkLKNFteK9HhX8lBBcU21ExZ1RyFXHBGsXR2wg03uEoKXIdxvbky/MsVROnSKdRCj6uCylx34UK48UYXRDRMftrbnfLp7XWfc8/tC9dTSJnWwxDnYizaevUq1DhhgpGOAeYAe+GW5AZAVd8Xo1zViz/QpAicdlp9uTKy9V10dUUnV64WetwVVOa6U6eGL+e2Nmf59Pa6/729fZVsGAVT60Oci7FobYBETRJmHtCNwMXA/wIfBk4DGuIUqqoJvlRTp8Z/zTS1DrP1XZQb8LKU68ZVQRWjFFpbndsts+5PU5Obx9PZGX/MtLQ0SPJRjJVnAyRqE1XN+wEe9L4fC25L4nPAAQdo6unoUJ09231XgtmzVRsbXe9EY6P7nxQdHarbbOPk2GabeMogW/lW4rql0tGhOn266uDBlZEvzWVRDpV+r2oMYJUmVG/n+oSxgDaJSAPwtIicB/wNNz/IyEWlXSdpah3G3XeRLwJzWvtMWludXN3dlXEh+a3BTZtg5kz3SVOZlEKtuyTrkDAK6MvAUOBLwCycG+6UOIUyiiRtlW+cFUU+V1uaK6hKNhIy18oMgFi61K1XZB33RsooqIBUdSWAiPSqF6C0KqkGn3g5pLnyjZI0WXvFUMlGQuZaM2c65dPbax33RioRzQwXznWAiwl3PbCdqo4UkX2As1X1C5UQMMiECRN01apVxZ2Upk56o3xqvTERFfbcGz5E5EFVnZC0HH7CuODmAv8BLAZQ1UdE5PA4hYocG8JZW+Qbim2KqY+0uWYNI0AYBYSqvhQIx9MTjzgxUa1um1qhEoqh2lv7cU6iraZyMOqKMAroJRE5BFARGYQblPBkvGJFjLUES6fcirFSiqGardxqV56GUSJhFNB04ApgV9wQ7LuAc+MUKhasJVg8+WKZhaVSiqGardxqVp6GUQZhRsG9CpxUAVmMtJEvlllYKqUYqtnKrWblaf1uRhnkW47hKrzlGLKhql+KRSIjPeSLZRaWSigGfyVYibA/UVOtytNch0aZ5LOA/GOdv4uLB1cUIjIZ575rBH6iqpcG9n8VOBPoBtYBp6stfpcegrHMBg8urXUed8yzWqgEK+0ijsJyMdehUSb5lmNYkPktIuf7/4dBRBqBa4CPAGuBlSKyWFWf8B22Gpigqm+LyDnAD4DPFnMdI2amTXNut7S2zq0SLJ6olHY1uw6NVBBqGDZ5XHF5OBB4RlWfAxCRW4Djga0KSFWX+46/H/h8Cdcx4ibNAziSrgSrsQ8krNIulLdqdR0aqSGsAiqFXYGXfP/XAgflOf4M4M5sO0RkGjANYOTIkVHJZ9QCSVaC1er+C6O0w+YtysZJNSpzoyzyDULYQJ/lM1RE3sjsAlRVt49KCBH5PDABOCLbflWdD8wHF4onquvWLPX2IidloQUtiYULK1/updzrMEq70q7NpJR5vb0rKSNfH9CwMtP+G7Cb7/8Ib1s/RORo4FvAEaq6qcxrGtXaKq9G/JZEU5Nbir2np3LlXs69LqS0K+3aTKIvz96VxIlzZdOVwBgRGS0izcAJePHkMojIfsA84DhV/WeMssRDZyfMmeO+00K2F9mIh4wlMWuWW3q9p6ey5R7nvfbnrRIVc0bhNTZWri/P3pXEia0PSFW7vQXsfo8bhn2Dqj4uIpfgVuZbDFyGW9zuV16suTWqelxcMkVKWltPSXfK1xsZS6KzExYsqGy5x32vK+naDNuXF6XLzN6VxCm4HEPaKGk5hjiYMwe+8x3XempsdC3FtEyCrGW/dprzFla2+fNh0SKYMqX40EalXrMWiKPRV0flV63LMRjZSHPrKc3DpsshrVZnhjDlPn8+nH22+33XXe67HCVUq/c6G3H0E9VT+aWQOPuAaptK+8iN2vDZL1qU/7+RmyT6iYxYMQuoHKz1VFlyWZ2VWm8oimtMmdJn+WT+G+Gwia81hykgo3rIVgFVwi0X5TUy7rao+oDqDWv01RSmgIzqIlgBVWL+SNTXmDbNFI9hYH1ARrVTiX6BtPU9pHH+mWGUgFlARvVzyinue+rUeNwzaep7SPtIQMMoAlNARvUSrIynTo3vWmnpe7DlJ4wawlxwRvVSC8OyiyVt7kDDKAOzgOqEmpzwHfFk4KooozS5Aw2jTEwB1QE1220QYWWcSBmVqvHS4g40jDIxBVQH1HS3QUSVccXLqGZbBYYRHusDqgOs26AwFS+jeuy/MowAZgHVAdZtUJiKl1FSwWyroqPLqBdsOQbDSIpKKwNz+9U1thyDYRh9VHowQU13BhrViPUBGUa9EOzoammxkD5GopgFZBj1gr+jq6UFzj/f3HFGotSPBWQBHA3DKZkZM6Cry0bhGYlTHxaQdb4aRn/SvKS8UTfUhwVkcy4Moz9pWVLePBN1TX1YQNbaqx+CQ5tt3ktuih2FF3VZmmei7qkPBWQzMauTYiu8YIU2d251drSnUWnGoSxsWHjdUx8KCCyAY7VRSoUXrNAWLaq+Cq6YfFdSUcWhLMwzUffUjwIyqotiK7zOTlizxs1xAVehTZkCK1ZUVwUXNt+Vdl/FoSzMM1H3mAIy0kkxFZ6/Mm5qgrPO6luee/z46qrgwua70u6ruJSFeSbqGlNARjoppsLzV8YAI0f2HV9tFVzYfCfhvqq2sjRSjykgI72ErfBqrS8hTL7NfWXUAKaAjOqnXitjs0iMKscUkFEbWGVsGFVHrJEQRGSyiPxFRJ4RkQuz7B8sIr/09j8gIqPilMcwah6LLGBUEbFZQCLSCFwDfARYC6wUkcWq+oTvsDOA11T1/SJyAvB94LNxyWTUKGmcuJkEaY8sYPfJCBCnC+5A4BlVfQ5ARG4Bjgf8Cuh4YKb3+zbgahERrbZlWo3kSHulW0nSHFnA7pORhThdcLsCL/n+r/W2ZT1GVbuB14GWYEIiMk1EVonIqnXr1sUkrlGVWKDZPoILzqVpNKDdJyMLVTEIQVXnA/MBJkyYYNaR0UetDcEuhzSPBrT7ZGQhTgX0N2A33/8R3rZsx6wVkSZgB6ArRpmMWiPNlW4SpHU0oN0nIwtxKqCVwBgRGY1TNCcAJwaOWQycAnQCnwLutv4fo2jSWuka/bH7ZASITQGpareInAf8HmgEblDVx0XkEmCVqi4GrgduFpFngH/hlJRhGIZRB8TaB6SqS4AlgW0X+X5vBD4dpwyGYRhGOqmPJbkNwzCM1GEKyDAMw0gEU0CGYRhGIpgCMgzDMBJBqm3Us4isA14s8fSdgFcjFCcqTK7iSKNcaZQJTK5iqWW5dlfVnaMQJiqqTgGVg4isUtUJScsRxOQqjjTKlUaZwOQqFpOrspgLzjAMw0gEU0CGYRhGItSbApqftAA5MLmKI41ypVEmMLmKxeSqIHXVB2QYhmGkh3qzgAzDMIyUYArIMAzDSISaVEAiMllE/iIiz4jIhVn2DxaRX3r7HxCRUSmR66si8oSIPCoiy0Rk9zTI5TtuioioiMQ+HDSMTCLyGa+8HheRn8ctUxi5RGSkiCwXkdXefTymAjLdICL/FJE/59gvInKlJ/OjIrJ/3DKFlOskT57HRKRDRPZJg1y+4z4kIt0i8qm0yCUibSLysPfM31MJuWJFVWvqg1v64VngfUAz8AiwV+CYLwDXer9PAH6ZErk+DAz1fp+TFrm844YB9wL3AxOSlgkYA6wGdvT+/1saygrXWXyO93sv4IUKyHU4sD/w5xz7jwHuBAQ4GHggbplCynWI7/59NC1y+e713bho/p9Kg1zAcOAJYKT3P/ZnPu5PLVpABwLPqOpzqroZuAU4PnDM8cAC7/dtwFEiIknLparLVfVt7+/9uFVk4yZMeQHMAr4PbEyJTGcB16jqawCq+s+UyKXA9t7vHYCX4xZKVe/FraeVi+OBheq4HxguIu9NWi5V7cjcPyr3vIcpL4AvAouASjxXQCi5TgR+raprvOMrJltc1KIC2hV4yfd/rbct6zGq2g28DrSkQC4/Z+BarXFTUC7PZbObqv6uAvKEkgn4APABEfmjiNwvIpNTItdM4PMishbXev5iBeQqRLHPXhJU6nkviIjsCnwC+HHSsgT4ALCjiLSLyIMiMjVpgcol1gXpjNIQkc8DE4AjUiBLA/BD4NSERQnShHPDteFazveKyHhVXZ+kUMDngJtU9X9EpBW34u84Ve1NWK7UIiIfximgw5KWxWMu8E1V7Y3fMVIUTcABwFHANkCniNyvqn9NVqzSqUUF9DdgN9//Ed62bMesFZEmnKukKwVyISJHA98CjlDVTTHLFEauYcA4oN17Gd8DLBaR41R1VUIygWvFP6CqW4DnReSvOIW0MiaZwsp1BjAZQFU7RWQILpBkku6SUM9eEojI3sBPgI+qatzvYFgmALd4z/tOwDEi0q2qtycqlXvmu1T1LeAtEbkX2AeoWgVUiy64lcAYERktIs24QQaLA8csBk7xfn8KuFu9Xr0k5RKR/YB5wHEV9O/mlUtVX1fVnVR1lKqOwvnq41Q+BWXyuB1n/SAiO+HcE8/FKFNYudbgWqiIyJ7AEGBdzHIVYjEw1RsNdzDwuqr+PWGZEJGRwK+Bk9PUilfV0b7n/TbgCylQPgC/BQ4TkSYRGQocBDyZsExlUXMWkKp2i8h5wO9xI1luUNXHReQSYJWqLgaux7lGnsF1+p2QErkuA7YDfuW1vtao6nEpkKuihJTp98AkEXkC6AEuiLsFHVKurwHXichXcAMSTo27cSMiv8Ap4528vqeLgUGezNfi+qKOAZ4B3gZOi1OeIuS6CNf3+iPvee/WCkR8DiFXIhSSS1WfFJH/Ax4FeoGfqGreoeRpx0LxGIZhGIlQiy44wzAMowowBWQYhmEkgikgwzAMIxFMARmGYRiJYArIMAzDSARTQEbVIyLf8qIDP+pFCj6ohDQmiMiVBY5pE5E7Spc0XkRkuIh8IWk5DCMsNTcPyKgvvHA3xwL7q+omb1Jqc7HpeBNr45xcGyteRI/huEjvP0pWGsMIh1lARrXzXuDVTNgiVX1VVV8GEJGjxK3L85i31spgb/uHvPVnHhGRP4nIML91IyIHikind26HiPx7PgFEZKyXzsOeFTZGREb513URka+LyEzvd7uIXOEd/2cROdDbPlNEbvau/bSInOVtFxG5zDv2MRH5rLe9TURWiMhiXJj+S4E9vHQvi7SUDSMGzAIyqp27gIu8WHBLcWso3ePFYLsJOEpV/yoiC4FzRORHwC+Bz6rqShHZHngnkOZTwEQv8sHRwGxgSh4ZpgNXqOrPvBA9jcC7C8g9VFX3FZHDgRtw8fYA9sat2bMtsFpEfge0Avvi4n7tBKz04oCBWz9mnKo+L25hxXGqum+BaxtGKjAFZFQ1qvqmiBwATMQt6PdLcSuVrgae98UYWwCcCywD/q6qK73z3wCQ/lGPdwAWiMgYXDidQQXE6AS+JSIjcOu1PC2Foyj/wrv+vSKyvYgM97b/VlXfAd4RkeW4NYgOA36hqj3AP8SthPkh4A3gT6r6fKGLGUYaMRecUfWoao+qtqvqxcB55LdWwjALWK6q44CP4QKK5rv+z4HjcJbUEhE5Euim//sVTCMYA0sLbM/FWwX2G0ZqMQVkVDUi8u+epZJhX+BF4C/AKBF5v7f9ZOAeb/t7ReRD3vnDvA58PzvQt1zBqSFkeB/wnKpeiYtYvDfwD+DfRKTF63s6NnBaph/nMFx06te97ceLyBARacEFplwJrAA+KyKNIrIzbunmP2URZQNu+QzDqArMBWdUO9sBV3kurG5cxOdpqrpRRE7DRRZvwlXk16rqZq8T/yoR2QZntRwdSPMHOBfct4Ewq8B+BjhZRLYArwCzVXWLFyX7Tzhl9lTgnI0ishrn3jvdt/1RYDmur2eWqr4sIr/B9QM9grOIvqGqr4jIB/0JqmqXuBVi/wzcqaoXhJDdMBLDomEbRoURkXbg68E1lbxRcm+q6uVJyGUYlcZccIZhGEYimAVkGIZhJIJZQIZhGEYimAIyDMMwEsEUkGEYhpEIpoAMwzCMRDAFZBiGYSTC/we3gVJcjgReMgAAAABJRU5ErkJggg==\n",
      "text/plain": [
       "<Figure size 432x288 with 1 Axes>"
      ]
     },
     "metadata": {
      "needs_background": "light"
     },
     "output_type": "display_data"
    }
   ],
   "source": [
    "#plot Social support vs health\n",
    "plt.plot(X_train[y_train == \"low\", 0], X_train[y_train == \"low\", 1], '.r', label='training low')\n",
    "plt.plot(X_train[y_train == \"high\", 0], X_train[y_train == \"high\", 1], '.b', label='training high')\n",
    "plt.title('Social support vs health by happiness score group (training data)')\n",
    "plt.xlabel('Social support')\n",
    "plt.ylabel('Health (Life Expectancy)')\n",
    "plt.legend()"
   ]
  },
  {
   "cell_type": "code",
   "execution_count": 99,
   "metadata": {},
   "outputs": [
    {
     "name": "stdout",
     "output_type": "stream",
     "text": [
      "Test accuracy is 0.7372881355932204\n"
     ]
    }
   ],
   "source": [
    "#knn classifier\n",
    "knn = KNeighborsClassifier(n_neighbors=3, metric='euclidean')\n",
    "knn.fit(X_train, y_train)\n",
    "y_pred = knn.predict(X_test)\n",
    "print(f'Test accuracy is {metrics.accuracy_score(y_test, y_pred)}')"
   ]
  },
  {
   "cell_type": "code",
   "execution_count": null,
   "metadata": {},
   "outputs": [],
   "source": []
  }
 ],
 "metadata": {
  "kernelspec": {
   "display_name": "Python 3",
   "language": "python",
   "name": "python3"
  },
  "language_info": {
   "codemirror_mode": {
    "name": "ipython",
    "version": 3
   },
   "file_extension": ".py",
   "mimetype": "text/x-python",
   "name": "python",
   "nbconvert_exporter": "python",
   "pygments_lexer": "ipython3",
   "version": "3.8.1"
  }
 },
 "nbformat": 4,
 "nbformat_minor": 4
}
